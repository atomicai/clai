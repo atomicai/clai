{
 "cells": [
  {
   "cell_type": "code",
   "execution_count": 1,
   "metadata": {},
   "outputs": [],
   "source": [
    "import pandas as pd\n",
    "import pathlib, os\n",
    "import torch\n",
    "from clai.tooling import tool\n",
    "from clai.modeling.module.model import model\n",
    "from clai.tooling import io\n",
    "from clai.processing import Processor"
   ]
  },
  {
   "cell_type": "code",
   "execution_count": 2,
   "metadata": {},
   "outputs": [],
   "source": [
    "label_list = [\n",
    "        '8800 СберМегаМаркет. Купить',\n",
    "        '8800 СберМегаМаркет. Статус доставки и заказа',\n",
    "        '8800 СберМегаМаркет. Другие вопросы',\n",
    "        'Соединить с оператором',\n",
    "        '8800 СберМегаМаркет. Не пришел заказ',\n",
    "        '8800 СберМегаМаркет. Разводящий вопрос',\n",
    "        'Да',\n",
    "        'Прочее',\n",
    "        '8800 СберМегаМаркет. Качество, комплектация, состав заказа',\n",
    "        '8800 СберМегаМаркет. Программа лояльности',\n",
    "        '8800 СберМегаМаркет. Отменить заказ',\n",
    "        '8800 СберМегаМаркет. Узнать условия',\n",
    "        '8800 СберМегаМаркет. Обращение',\n",
    "        '8800 СберМегаМаркет. Изменить заказ',\n",
    "        '8800 СберМегаМаркет. Изменить личные данные',\n",
    "        '8800 СберМегаМаркет. Оплата',\n",
    "        '8800 СберМегаМаркет. Изменить доставку',\n",
    "        '8800 СберМегаМаркет. Заказ отменили',\n",
    "        '8800 СберМегаМаркет. Вернуть деньги',\n",
    "        '8800 СберМегаМаркет. Вернуть товар',\n",
    "        'Нет',\n",
    "        '8800 СберМегаМаркет. Получение заказа',\n",
    "        '8800 СберМегаМаркет. Юридические лица',\n",
    "        '8800 СберМегаМаркет. Промокод'\n",
    "    ]"
   ]
  },
  {
   "cell_type": "code",
   "execution_count": 3,
   "metadata": {},
   "outputs": [
    {
     "name": "stdout",
     "output_type": "stream",
     "text": [
      "Devices available: cpu\n"
     ]
    }
   ],
   "source": [
    "device = torch.device(\"cuda\" if torch.cuda.is_available() else \"cpu\")\n",
    "print(\"Devices available: {}\".format(device))"
   ]
  },
  {
   "cell_type": "code",
   "execution_count": 4,
   "metadata": {},
   "outputs": [
    {
     "name": "stderr",
     "output_type": "stream",
     "text": [
      "Some weights of the model checkpoint at cointegrated/rubert-tiny were not used when initializing BertModel: ['cls.predictions.decoder.bias', 'cls.predictions.decoder.weight', 'cls.predictions.transform.dense.bias', 'cls.seq_relationship.bias', 'cls.predictions.bias', 'cls.seq_relationship.weight', 'cls.predictions.transform.dense.weight', 'cls.predictions.transform.LayerNorm.weight', 'cls.predictions.transform.LayerNorm.bias']\n",
      "- This IS expected if you are initializing BertModel from the checkpoint of a model trained on another task or with another architecture (e.g. initializing a BertForSequenceClassification model from a BertForPreTraining model).\n",
      "- This IS NOT expected if you are initializing BertModel from the checkpoint of a model that you expect to be exactly identical (initializing a BertForSequenceClassification model from a BertForSequenceClassification model).\n"
     ]
    }
   ],
   "source": [
    "lm = model.LanguageModel.load(\"coi\")"
   ]
  },
  {
   "cell_type": "code",
   "execution_count": 5,
   "metadata": {},
   "outputs": [],
   "source": [
    "tokenizer = io.load_tokenizer(pretrained_model_name_or_path=\"cointegrated/rubert-tiny\")"
   ]
  },
  {
   "cell_type": "code",
   "execution_count": 6,
   "metadata": {},
   "outputs": [
    {
     "data": {
      "text/plain": [
       "PreTrainedTokenizerFast(name_or_path='cointegrated/rubert-tiny', vocab_size=29564, model_max_len=512, is_fast=True, padding_side='right', truncation_side='right', special_tokens={'unk_token': '[UNK]', 'sep_token': '[SEP]', 'pad_token': '[PAD]', 'cls_token': '[CLS]', 'mask_token': '[MASK]'})"
      ]
     },
     "execution_count": 6,
     "metadata": {},
     "output_type": "execute_result"
    }
   ],
   "source": [
    "tokenizer"
   ]
  },
  {
   "cell_type": "code",
   "execution_count": 7,
   "metadata": {},
   "outputs": [],
   "source": [
    "data_dir = pathlib.Path.home() / \"Dataset\" / \"sber\"\n",
    "max_seq_len = 128\n",
    "text_column_name = \"input_text\"\n",
    "label_column_name = \"topic\"\n",
    "metric = \"f1_macro\"\n",
    "train_filename = \"train.csv\"\n",
    "test_filename = \"test.csv\""
   ]
  },
  {
   "cell_type": "code",
   "execution_count": 8,
   "metadata": {},
   "outputs": [],
   "source": [
    "processor = Processor.load(\n",
    "    \"klass\",\n",
    "    max_seq_len=max_seq_len,\n",
    "    tokenizer=tokenizer, \n",
    "    data_dir=data_dir, \n",
    "    train_filename=train_filename,\n",
    "    test_filename=test_filename,\n",
    "    dev_split=0.0,\n",
    "    label_list=label_list,\n",
    "    text_column_name=text_column_name, \n",
    "    label_column_name=label_column_name,\n",
    "    metric=metric\n",
    ")"
   ]
  },
  {
   "cell_type": "code",
   "execution_count": 9,
   "metadata": {},
   "outputs": [],
   "source": [
    "from clai.flowing import flow"
   ]
  },
  {
   "cell_type": "code",
   "execution_count": 10,
   "metadata": {},
   "outputs": [
    {
     "name": "stderr",
     "output_type": "stream",
     "text": [
      "06/24/2022 15:33:19 - INFO - clai.flowing.haski.flow -   \n",
      "Loading data into the data silo ... \n",
      "              ______\n",
      "               |o  |   !\n",
      "   __          |:`_|---'-.\n",
      "  |__|______.-/ _ \\-----.|       \n",
      " (o)(o)------'\\ _ /     ( )      \n",
      " \n",
      "06/24/2022 15:33:19 - INFO - clai.flowing.haski.flow -   LOADING TRAIN DATA\n",
      "06/24/2022 15:33:19 - INFO - clai.flowing.haski.flow -   ==================\n",
      "06/24/2022 15:33:19 - INFO - clai.flowing.haski.flow -   Loading train set from: /Users/justatom/Dataset/sber/train.csv \n",
      "06/24/2022 15:33:19 - INFO - clai.flowing.base.flow -   Got ya 9 parallel workers to convert 19334 dictionaries to pytorch datasets (chunksize = 430)...\n"
     ]
    },
    {
     "data": {
      "application/vnd.jupyter.widget-view+json": {
       "model_id": "af751733a1c342a2a943bd2a79f29909",
       "version_major": 2,
       "version_minor": 0
      },
      "text/plain": [
       "Preprocessing Dataset /Users/justatom/Dataset/sber/train.csv:   0%|          | 0/19334 [00:00<?, ? Dicts/s]"
      ]
     },
     "metadata": {},
     "output_type": "display_data"
    },
    {
     "name": "stderr",
     "output_type": "stream",
     "text": [
      "06/24/2022 15:33:23 - WARNING - clai.processing.klass.processor -   Currently no support in Processor for returning problematic ids\n",
      "06/24/2022 15:33:23 - WARNING - clai.processing.klass.processor -   Currently no support in Processor for returning problematic ids\n",
      "06/24/2022 15:33:23 - WARNING - clai.processing.klass.processor -   Currently no support in Processor for returning problematic ids\n",
      "06/24/2022 15:33:23 - INFO - clai.processing.base.processor -   *** Show 1 random examples ***\n",
      "06/24/2022 15:33:23 - INFO - clai.processing.base.processor -   \n",
      "\n",
      "      .--.        _____                       _      \n",
      "    .'_\\/_'.     / ____|                     | |     \n",
      "    '. /\\ .'    | (___   __ _ _ __ ___  _ __ | | ___ \n",
      "      \"||\"       \\___ \\ / _` | '_ ` _ \\| '_ \\| |/ _ \\ \n",
      "       || /\\     ____) | (_| | | | | | | |_) | |  __/\n",
      "    /\\ ||//\\)   |_____/ \\__,_|_| |_| |_| .__/|_|\\___|\n",
      "   (/\\||/                             |_|           \n",
      "______\\||/___________________________________________                     \n",
      "\n",
      "ID: None\n",
      "Clear Text: \n",
      " \ttext_classification_label: 8800 СберМегаМаркет. Не пришел заказ\n",
      " \ttext: я жду заказ у меня до сих пор нет заказа\n",
      "Tokenized: \n",
      " \tNone\n",
      "Features: \n",
      " \tinput_ids: [2, 343, 318, 3914, 650, 13361, 331, 17717, 745, 6249, 13276, 10030, 650, 13361, 603, 3, 0, 0, 0, 0, 0, 0, 0, 0, 0, 0, 0, 0, 0, 0, 0, 0, 0, 0, 0, 0, 0, 0, 0, 0, 0, 0, 0, 0, 0, 0, 0, 0, 0, 0, 0, 0, 0, 0, 0, 0, 0, 0, 0, 0, 0, 0, 0, 0, 0, 0, 0, 0, 0, 0, 0, 0, 0, 0, 0, 0, 0, 0, 0, 0, 0, 0, 0, 0, 0, 0, 0, 0, 0, 0, 0, 0, 0, 0, 0, 0, 0, 0, 0, 0, 0, 0, 0, 0, 0, 0, 0, 0, 0, 0, 0, 0, 0, 0, 0, 0, 0, 0, 0, 0, 0, 0, 0, 0, 0, 0, 0, 0]\n",
      " \tpadding_mask: [1, 1, 1, 1, 1, 1, 1, 1, 1, 1, 1, 1, 1, 1, 1, 1, 0, 0, 0, 0, 0, 0, 0, 0, 0, 0, 0, 0, 0, 0, 0, 0, 0, 0, 0, 0, 0, 0, 0, 0, 0, 0, 0, 0, 0, 0, 0, 0, 0, 0, 0, 0, 0, 0, 0, 0, 0, 0, 0, 0, 0, 0, 0, 0, 0, 0, 0, 0, 0, 0, 0, 0, 0, 0, 0, 0, 0, 0, 0, 0, 0, 0, 0, 0, 0, 0, 0, 0, 0, 0, 0, 0, 0, 0, 0, 0, 0, 0, 0, 0, 0, 0, 0, 0, 0, 0, 0, 0, 0, 0, 0, 0, 0, 0, 0, 0, 0, 0, 0, 0, 0, 0, 0, 0, 0, 0, 0, 0]\n",
      " \tsegment_ids: [0, 0, 0, 0, 0, 0, 0, 0, 0, 0, 0, 0, 0, 0, 0, 0, 0, 0, 0, 0, 0, 0, 0, 0, 0, 0, 0, 0, 0, 0, 0, 0, 0, 0, 0, 0, 0, 0, 0, 0, 0, 0, 0, 0, 0, 0, 0, 0, 0, 0, 0, 0, 0, 0, 0, 0, 0, 0, 0, 0, 0, 0, 0, 0, 0, 0, 0, 0, 0, 0, 0, 0, 0, 0, 0, 0, 0, 0, 0, 0, 0, 0, 0, 0, 0, 0, 0, 0, 0, 0, 0, 0, 0, 0, 0, 0, 0, 0, 0, 0, 0, 0, 0, 0, 0, 0, 0, 0, 0, 0, 0, 0, 0, 0, 0, 0, 0, 0, 0, 0, 0, 0, 0, 0, 0, 0, 0, 0]\n",
      " \ttext_classification_label_ids: [4]\n",
      "_____________________________________________________\n",
      "06/24/2022 15:33:23 - WARNING - clai.processing.klass.processor -   Currently no support in Processor for returning problematic ids\n",
      "06/24/2022 15:33:23 - WARNING - clai.processing.klass.processor -   Currently no support in Processor for returning problematic ids\n",
      "06/24/2022 15:33:23 - WARNING - clai.processing.klass.processor -   Currently no support in Processor for returning problematic ids\n",
      "06/24/2022 15:33:23 - WARNING - clai.processing.klass.processor -   Currently no support in Processor for returning problematic ids\n",
      "06/24/2022 15:33:23 - WARNING - clai.processing.klass.processor -   Currently no support in Processor for returning problematic ids\n",
      "06/24/2022 15:33:24 - WARNING - clai.processing.klass.processor -   Currently no support in Processor for returning problematic ids\n"
     ]
    },
    {
     "name": "stdout",
     "output_type": "stream",
     "text": [
      "huggingface/tokenizers: The current process just got forked, after parallelism has already been used. Disabling parallelism to avoid deadlocks...\n",
      "To disable this warning, you can either:\n",
      "\t- Avoid using `tokenizers` before the fork if possible\n",
      "\t- Explicitly set the environment variable TOKENIZERS_PARALLELISM=(true | false)\n",
      "huggingface/tokenizers: The current process just got forked, after parallelism has already been used. Disabling parallelism to avoid deadlocks...\n",
      "To disable this warning, you can either:\n",
      "\t- Avoid using `tokenizers` before the fork if possible\n",
      "\t- Explicitly set the environment variable TOKENIZERS_PARALLELISM=(true | false)\n",
      "huggingface/tokenizers: The current process just got forked, after parallelism has already been used. Disabling parallelism to avoid deadlocks...\n",
      "To disable this warning, you can either:\n",
      "\t- Avoid using `tokenizers` before the fork if possible\n",
      "\t- Explicitly set the environment variable TOKENIZERS_PARALLELISM=(true | false)\n",
      "huggingface/tokenizers: The current process just got forked, after parallelism has already been used. Disabling parallelism to avoid deadlocks...\n",
      "To disable this warning, you can either:\n",
      "\t- Avoid using `tokenizers` before the fork if possible\n",
      "\t- Explicitly set the environment variable TOKENIZERS_PARALLELISM=(true | false)\n",
      "huggingface/tokenizers: The current process just got forked, after parallelism has already been used. Disabling parallelism to avoid deadlocks...\n",
      "To disable this warning, you can either:\n",
      "\t- Avoid using `tokenizers` before the fork if possible\n",
      "\t- Explicitly set the environment variable TOKENIZERS_PARALLELISM=(true | false)\n",
      "huggingface/tokenizers: The current process just got forked, after parallelism has already been used. Disabling parallelism to avoid deadlocks...\n",
      "To disable this warning, you can either:\n",
      "\t- Avoid using `tokenizers` before the fork if possible\n",
      "\t- Explicitly set the environment variable TOKENIZERS_PARALLELISM=(true | false)\n",
      "huggingface/tokenizers: The current process just got forked, after parallelism has already been used. Disabling parallelism to avoid deadlocks...\n",
      "To disable this warning, you can either:\n",
      "\t- Avoid using `tokenizers` before the fork if possible\n",
      "\t- Explicitly set the environment variable TOKENIZERS_PARALLELISM=(true | false)\n",
      "huggingface/tokenizers: The current process just got forked, after parallelism has already been used. Disabling parallelism to avoid deadlocks...\n",
      "To disable this warning, you can either:\n",
      "\t- Avoid using `tokenizers` before the fork if possible\n",
      "\t- Explicitly set the environment variable TOKENIZERS_PARALLELISM=(true | false)\n",
      "huggingface/tokenizers: The current process just got forked, after parallelism has already been used. Disabling parallelism to avoid deadlocks...\n",
      "To disable this warning, you can either:\n",
      "\t- Avoid using `tokenizers` before the fork if possible\n",
      "\t- Explicitly set the environment variable TOKENIZERS_PARALLELISM=(true | false)\n"
     ]
    },
    {
     "name": "stderr",
     "output_type": "stream",
     "text": [
      "06/24/2022 15:33:24 - WARNING - clai.processing.klass.processor -   Currently no support in Processor for returning problematic ids\n",
      "06/24/2022 15:33:24 - WARNING - clai.processing.klass.processor -   Currently no support in Processor for returning problematic ids\n",
      "06/24/2022 15:33:24 - WARNING - clai.processing.klass.processor -   Currently no support in Processor for returning problematic ids\n",
      "06/24/2022 15:33:24 - WARNING - clai.processing.klass.processor -   Currently no support in Processor for returning problematic ids\n",
      "06/24/2022 15:33:24 - WARNING - clai.processing.klass.processor -   Currently no support in Processor for returning problematic ids\n",
      "06/24/2022 15:33:24 - WARNING - clai.processing.klass.processor -   Currently no support in Processor for returning problematic ids\n",
      "06/24/2022 15:33:24 - WARNING - clai.processing.klass.processor -   Currently no support in Processor for returning problematic ids\n",
      "06/24/2022 15:33:24 - WARNING - clai.processing.klass.processor -   Currently no support in Processor for returning problematic ids\n",
      "06/24/2022 15:33:24 - WARNING - clai.processing.klass.processor -   Currently no support in Processor for returning problematic ids\n",
      "06/24/2022 15:33:24 - WARNING - clai.processing.klass.processor -   Currently no support in Processor for returning problematic ids\n",
      "06/24/2022 15:33:24 - WARNING - clai.processing.klass.processor -   Currently no support in Processor for returning problematic ids\n",
      "06/24/2022 15:33:24 - WARNING - clai.processing.klass.processor -   Currently no support in Processor for returning problematic ids\n",
      "06/24/2022 15:33:24 - WARNING - clai.processing.klass.processor -   Currently no support in Processor for returning problematic ids\n",
      "06/24/2022 15:33:24 - WARNING - clai.processing.klass.processor -   Currently no support in Processor for returning problematic ids\n",
      "06/24/2022 15:33:24 - WARNING - clai.processing.klass.processor -   Currently no support in Processor for returning problematic ids\n",
      "06/24/2022 15:33:24 - WARNING - clai.processing.klass.processor -   Currently no support in Processor for returning problematic ids\n",
      "06/24/2022 15:33:24 - WARNING - clai.processing.klass.processor -   Currently no support in Processor for returning problematic ids\n",
      "06/24/2022 15:33:24 - WARNING - clai.processing.klass.processor -   Currently no support in Processor for returning problematic ids\n",
      "06/24/2022 15:33:24 - WARNING - clai.processing.klass.processor -   Currently no support in Processor for returning problematic ids\n",
      "06/24/2022 15:33:24 - WARNING - clai.processing.klass.processor -   Currently no support in Processor for returning problematic ids\n",
      "06/24/2022 15:33:24 - WARNING - clai.processing.klass.processor -   Currently no support in Processor for returning problematic ids\n",
      "06/24/2022 15:33:24 - WARNING - clai.processing.klass.processor -   Currently no support in Processor for returning problematic ids\n",
      "06/24/2022 15:33:24 - WARNING - clai.processing.klass.processor -   Currently no support in Processor for returning problematic ids\n",
      "06/24/2022 15:33:24 - WARNING - clai.processing.klass.processor -   Currently no support in Processor for returning problematic ids\n",
      "06/24/2022 15:33:24 - WARNING - clai.processing.klass.processor -   Currently no support in Processor for returning problematic ids\n",
      "06/24/2022 15:33:24 - WARNING - clai.processing.klass.processor -   Currently no support in Processor for returning problematic ids\n",
      "06/24/2022 15:33:24 - WARNING - clai.processing.klass.processor -   Currently no support in Processor for returning problematic ids\n",
      "06/24/2022 15:33:24 - WARNING - clai.processing.klass.processor -   Currently no support in Processor for returning problematic ids\n",
      "06/24/2022 15:33:24 - WARNING - clai.processing.klass.processor -   Currently no support in Processor for returning problematic ids\n",
      "06/24/2022 15:33:24 - WARNING - clai.processing.klass.processor -   Currently no support in Processor for returning problematic ids\n",
      "06/24/2022 15:33:24 - WARNING - clai.processing.klass.processor -   Currently no support in Processor for returning problematic ids\n",
      "06/24/2022 15:33:24 - WARNING - clai.processing.klass.processor -   Currently no support in Processor for returning problematic ids\n",
      "06/24/2022 15:33:24 - WARNING - clai.processing.klass.processor -   Currently no support in Processor for returning problematic ids\n",
      "06/24/2022 15:33:24 - WARNING - clai.processing.klass.processor -   Currently no support in Processor for returning problematic ids\n",
      "06/24/2022 15:33:24 - WARNING - clai.processing.klass.processor -   Currently no support in Processor for returning problematic ids\n",
      "06/24/2022 15:33:24 - WARNING - clai.processing.klass.processor -   Currently no support in Processor for returning problematic ids\n",
      "06/24/2022 15:33:24 - INFO - clai.flowing.haski.flow -   \n",
      "06/24/2022 15:33:24 - INFO - clai.flowing.haski.flow -   LOADING DEV DATA\n",
      "06/24/2022 15:33:24 - INFO - clai.flowing.haski.flow -   =================\n",
      "06/24/2022 15:33:24 - INFO - clai.flowing.haski.flow -   No dev set is being loaded\n",
      "06/24/2022 15:33:24 - INFO - clai.flowing.haski.flow -   \n",
      "06/24/2022 15:33:24 - INFO - clai.flowing.haski.flow -   LOADING TEST DATA\n",
      "06/24/2022 15:33:24 - INFO - clai.flowing.haski.flow -   =================\n",
      "06/24/2022 15:33:24 - INFO - clai.flowing.haski.flow -   Loading test set from: /Users/justatom/Dataset/sber/test.csv\n",
      "06/24/2022 15:33:24 - INFO - clai.flowing.base.flow -   Got ya 9 parallel workers to convert 4784 dictionaries to pytorch datasets (chunksize = 107)...\n"
     ]
    },
    {
     "data": {
      "application/vnd.jupyter.widget-view+json": {
       "model_id": "dd250d887069474b840cf83a9faebc8c",
       "version_major": 2,
       "version_minor": 0
      },
      "text/plain": [
       "Preprocessing Dataset /Users/justatom/Dataset/sber/test.csv:   0%|          | 0/4784 [00:00<?, ? Dicts/s]"
      ]
     },
     "metadata": {},
     "output_type": "display_data"
    },
    {
     "name": "stderr",
     "output_type": "stream",
     "text": [
      "06/24/2022 15:33:28 - WARNING - clai.processing.klass.processor -   Currently no support in Processor for returning problematic ids\n",
      "06/24/2022 15:33:28 - WARNING - clai.processing.klass.processor -   Currently no support in Processor for returning problematic ids\n",
      "06/24/2022 15:33:28 - WARNING - clai.processing.klass.processor -   Currently no support in Processor for returning problematic ids\n",
      "06/24/2022 15:33:28 - INFO - clai.processing.base.processor -   *** Show 1 random examples ***\n",
      "06/24/2022 15:33:28 - INFO - clai.processing.base.processor -   \n",
      "\n",
      "      .--.        _____                       _      \n",
      "    .'_\\/_'.     / ____|                     | |     \n",
      "    '. /\\ .'    | (___   __ _ _ __ ___  _ __ | | ___ \n",
      "      \"||\"       \\___ \\ / _` | '_ ` _ \\| '_ \\| |/ _ \\ \n",
      "       || /\\     ____) | (_| | | | | | | |_) | |  __/\n",
      "    /\\ ||//\\)   |_____/ \\__,_|_| |_| |_| .__/|_|\\___|\n",
      "   (/\\||/                             |_|           \n",
      "______\\||/___________________________________________                     \n",
      "\n",
      "ID: None\n",
      "Clear Text: \n",
      " \ttext_classification_label: Соединить с оператором\n",
      " \ttext: да соедини специалистом\n",
      "Tokenized: \n",
      " \tNone\n",
      "Features: \n",
      " \tinput_ids: [2, 791, 1154, 24274, 958, 329, 26897, 761, 3, 0, 0, 0, 0, 0, 0, 0, 0, 0, 0, 0, 0, 0, 0, 0, 0, 0, 0, 0, 0, 0, 0, 0, 0, 0, 0, 0, 0, 0, 0, 0, 0, 0, 0, 0, 0, 0, 0, 0, 0, 0, 0, 0, 0, 0, 0, 0, 0, 0, 0, 0, 0, 0, 0, 0, 0, 0, 0, 0, 0, 0, 0, 0, 0, 0, 0, 0, 0, 0, 0, 0, 0, 0, 0, 0, 0, 0, 0, 0, 0, 0, 0, 0, 0, 0, 0, 0, 0, 0, 0, 0, 0, 0, 0, 0, 0, 0, 0, 0, 0, 0, 0, 0, 0, 0, 0, 0, 0, 0, 0, 0, 0, 0, 0, 0, 0, 0, 0, 0]\n",
      " \tpadding_mask: [1, 1, 1, 1, 1, 1, 1, 1, 1, 0, 0, 0, 0, 0, 0, 0, 0, 0, 0, 0, 0, 0, 0, 0, 0, 0, 0, 0, 0, 0, 0, 0, 0, 0, 0, 0, 0, 0, 0, 0, 0, 0, 0, 0, 0, 0, 0, 0, 0, 0, 0, 0, 0, 0, 0, 0, 0, 0, 0, 0, 0, 0, 0, 0, 0, 0, 0, 0, 0, 0, 0, 0, 0, 0, 0, 0, 0, 0, 0, 0, 0, 0, 0, 0, 0, 0, 0, 0, 0, 0, 0, 0, 0, 0, 0, 0, 0, 0, 0, 0, 0, 0, 0, 0, 0, 0, 0, 0, 0, 0, 0, 0, 0, 0, 0, 0, 0, 0, 0, 0, 0, 0, 0, 0, 0, 0, 0, 0]\n",
      " \tsegment_ids: [0, 0, 0, 0, 0, 0, 0, 0, 0, 0, 0, 0, 0, 0, 0, 0, 0, 0, 0, 0, 0, 0, 0, 0, 0, 0, 0, 0, 0, 0, 0, 0, 0, 0, 0, 0, 0, 0, 0, 0, 0, 0, 0, 0, 0, 0, 0, 0, 0, 0, 0, 0, 0, 0, 0, 0, 0, 0, 0, 0, 0, 0, 0, 0, 0, 0, 0, 0, 0, 0, 0, 0, 0, 0, 0, 0, 0, 0, 0, 0, 0, 0, 0, 0, 0, 0, 0, 0, 0, 0, 0, 0, 0, 0, 0, 0, 0, 0, 0, 0, 0, 0, 0, 0, 0, 0, 0, 0, 0, 0, 0, 0, 0, 0, 0, 0, 0, 0, 0, 0, 0, 0, 0, 0, 0, 0, 0, 0]\n",
      " \ttext_classification_label_ids: [3]\n",
      "_____________________________________________________\n",
      "06/24/2022 15:33:28 - WARNING - clai.processing.klass.processor -   Currently no support in Processor for returning problematic ids\n",
      "06/24/2022 15:33:28 - WARNING - clai.processing.klass.processor -   Currently no support in Processor for returning problematic ids\n",
      "06/24/2022 15:33:28 - WARNING - clai.processing.klass.processor -   Currently no support in Processor for returning problematic ids\n",
      "06/24/2022 15:33:28 - WARNING - clai.processing.klass.processor -   Currently no support in Processor for returning problematic ids\n"
     ]
    },
    {
     "name": "stdout",
     "output_type": "stream",
     "text": [
      "huggingface/tokenizers: The current process just got forked, after parallelism has already been used. Disabling parallelism to avoid deadlocks...\n",
      "To disable this warning, you can either:\n",
      "\t- Avoid using `tokenizers` before the fork if possible\n",
      "\t- Explicitly set the environment variable TOKENIZERS_PARALLELISM=(true | false)\n",
      "huggingface/tokenizers: The current process just got forked, after parallelism has already been used. Disabling parallelism to avoid deadlocks...\n",
      "To disable this warning, you can either:\n",
      "\t- Avoid using `tokenizers` before the fork if possible\n",
      "\t- Explicitly set the environment variable TOKENIZERS_PARALLELISM=(true | false)\n",
      "huggingface/tokenizers: The current process just got forked, after parallelism has already been used. Disabling parallelism to avoid deadlocks...\n",
      "To disable this warning, you can either:\n",
      "\t- Avoid using `tokenizers` before the fork if possible\n",
      "\t- Explicitly set the environment variable TOKENIZERS_PARALLELISM=(true | false)\n",
      "huggingface/tokenizers: The current process just got forked, after parallelism has already been used. Disabling parallelism to avoid deadlocks...\n",
      "To disable this warning, you can either:\n",
      "\t- Avoid using `tokenizers` before the fork if possible\n",
      "\t- Explicitly set the environment variable TOKENIZERS_PARALLELISM=(true | false)\n",
      "huggingface/tokenizers: The current process just got forked, after parallelism has already been used. Disabling parallelism to avoid deadlocks...\n",
      "To disable this warning, you can either:\n",
      "\t- Avoid using `tokenizers` before the fork if possible\n",
      "\t- Explicitly set the environment variable TOKENIZERS_PARALLELISM=(true | false)\n",
      "huggingface/tokenizers: The current process just got forked, after parallelism has already been used. Disabling parallelism to avoid deadlocks...\n",
      "To disable this warning, you can either:\n",
      "\t- Avoid using `tokenizers` before the fork if possible\n",
      "\t- Explicitly set the environment variable TOKENIZERS_PARALLELISM=(true | false)\n"
     ]
    },
    {
     "name": "stderr",
     "output_type": "stream",
     "text": [
      "06/24/2022 15:33:28 - WARNING - clai.processing.klass.processor -   Currently no support in Processor for returning problematic ids\n",
      "06/24/2022 15:33:28 - WARNING - clai.processing.klass.processor -   Currently no support in Processor for returning problematic ids\n",
      "06/24/2022 15:33:29 - WARNING - clai.processing.klass.processor -   Currently no support in Processor for returning problematic ids\n",
      "06/24/2022 15:33:29 - WARNING - clai.processing.klass.processor -   Currently no support in Processor for returning problematic ids\n",
      "06/24/2022 15:33:29 - WARNING - clai.processing.klass.processor -   Currently no support in Processor for returning problematic ids\n",
      "06/24/2022 15:33:29 - WARNING - clai.processing.klass.processor -   Currently no support in Processor for returning problematic ids\n",
      "06/24/2022 15:33:29 - WARNING - clai.processing.klass.processor -   Currently no support in Processor for returning problematic ids\n",
      "06/24/2022 15:33:29 - WARNING - clai.processing.klass.processor -   Currently no support in Processor for returning problematic ids\n",
      "06/24/2022 15:33:29 - WARNING - clai.processing.klass.processor -   Currently no support in Processor for returning problematic ids\n",
      "06/24/2022 15:33:29 - WARNING - clai.processing.klass.processor -   Currently no support in Processor for returning problematic ids\n",
      "06/24/2022 15:33:29 - WARNING - clai.processing.klass.processor -   Currently no support in Processor for returning problematic ids\n",
      "06/24/2022 15:33:29 - WARNING - clai.processing.klass.processor -   Currently no support in Processor for returning problematic ids\n",
      "06/24/2022 15:33:29 - WARNING - clai.processing.klass.processor -   Currently no support in Processor for returning problematic ids\n",
      "06/24/2022 15:33:29 - WARNING - clai.processing.klass.processor -   Currently no support in Processor for returning problematic ids\n",
      "06/24/2022 15:33:29 - WARNING - clai.processing.klass.processor -   Currently no support in Processor for returning problematic ids\n",
      "06/24/2022 15:33:29 - WARNING - clai.processing.klass.processor -   Currently no support in Processor for returning problematic ids\n",
      "06/24/2022 15:33:29 - WARNING - clai.processing.klass.processor -   Currently no support in Processor for returning problematic ids\n",
      "06/24/2022 15:33:29 - WARNING - clai.processing.klass.processor -   Currently no support in Processor for returning problematic ids\n",
      "06/24/2022 15:33:29 - WARNING - clai.processing.klass.processor -   Currently no support in Processor for returning problematic ids\n",
      "06/24/2022 15:33:29 - WARNING - clai.processing.klass.processor -   Currently no support in Processor for returning problematic ids\n",
      "06/24/2022 15:33:29 - WARNING - clai.processing.klass.processor -   Currently no support in Processor for returning problematic ids\n",
      "06/24/2022 15:33:29 - WARNING - clai.processing.klass.processor -   Currently no support in Processor for returning problematic ids\n",
      "06/24/2022 15:33:29 - WARNING - clai.processing.klass.processor -   Currently no support in Processor for returning problematic ids\n",
      "06/24/2022 15:33:29 - WARNING - clai.processing.klass.processor -   Currently no support in Processor for returning problematic ids\n",
      "06/24/2022 15:33:29 - WARNING - clai.processing.klass.processor -   Currently no support in Processor for returning problematic ids\n",
      "06/24/2022 15:33:29 - WARNING - clai.processing.klass.processor -   Currently no support in Processor for returning problematic ids\n",
      "06/24/2022 15:33:29 - WARNING - clai.processing.klass.processor -   Currently no support in Processor for returning problematic ids\n",
      "06/24/2022 15:33:29 - WARNING - clai.processing.klass.processor -   Currently no support in Processor for returning problematic ids\n",
      "06/24/2022 15:33:29 - WARNING - clai.processing.klass.processor -   Currently no support in Processor for returning problematic ids\n",
      "06/24/2022 15:33:29 - WARNING - clai.processing.klass.processor -   Currently no support in Processor for returning problematic ids\n",
      "06/24/2022 15:33:29 - WARNING - clai.processing.klass.processor -   Currently no support in Processor for returning problematic ids\n",
      "06/24/2022 15:33:29 - WARNING - clai.processing.klass.processor -   Currently no support in Processor for returning problematic ids\n",
      "06/24/2022 15:33:29 - WARNING - clai.processing.klass.processor -   Currently no support in Processor for returning problematic ids\n"
     ]
    },
    {
     "name": "stdout",
     "output_type": "stream",
     "text": [
      "huggingface/tokenizers: The current process just got forked, after parallelism has already been used. Disabling parallelism to avoid deadlocks...\n",
      "To disable this warning, you can either:\n",
      "\t- Avoid using `tokenizers` before the fork if possible\n",
      "\t- Explicitly set the environment variable TOKENIZERS_PARALLELISM=(true | false)\n",
      "huggingface/tokenizers: The current process just got forked, after parallelism has already been used. Disabling parallelism to avoid deadlocks...\n",
      "To disable this warning, you can either:\n",
      "\t- Avoid using `tokenizers` before the fork if possible\n",
      "\t- Explicitly set the environment variable TOKENIZERS_PARALLELISM=(true | false)\n",
      "huggingface/tokenizers: The current process just got forked, after parallelism has already been used. Disabling parallelism to avoid deadlocks...\n",
      "To disable this warning, you can either:\n",
      "\t- Avoid using `tokenizers` before the fork if possible\n",
      "\t- Explicitly set the environment variable TOKENIZERS_PARALLELISM=(true | false)\n"
     ]
    },
    {
     "name": "stderr",
     "output_type": "stream",
     "text": [
      "06/24/2022 15:33:29 - WARNING - clai.processing.klass.processor -   Currently no support in Processor for returning problematic ids\n",
      "06/24/2022 15:33:29 - WARNING - clai.processing.klass.processor -   Currently no support in Processor for returning problematic ids\n",
      "06/24/2022 15:33:29 - WARNING - clai.processing.klass.processor -   Currently no support in Processor for returning problematic ids\n",
      "06/24/2022 15:33:29 - WARNING - clai.processing.klass.processor -   Currently no support in Processor for returning problematic ids\n",
      "06/24/2022 15:33:29 - WARNING - clai.processing.klass.processor -   Currently no support in Processor for returning problematic ids\n",
      "06/24/2022 15:33:29 - INFO - clai.flowing.base.flow -   \n",
      "06/24/2022 15:33:29 - INFO - clai.flowing.base.flow -   DATASETS SUMMARY\n",
      "06/24/2022 15:33:29 - INFO - clai.flowing.base.flow -   ================\n",
      "06/24/2022 15:33:29 - INFO - clai.flowing.base.flow -   Examples in train: 19334\n",
      "06/24/2022 15:33:29 - INFO - clai.flowing.base.flow -   Examples in dev  : 0\n",
      "06/24/2022 15:33:29 - INFO - clai.flowing.base.flow -   Examples in test : 4784\n",
      "06/24/2022 15:33:29 - INFO - clai.flowing.base.flow -   \n",
      "06/24/2022 15:33:29 - INFO - clai.flowing.base.flow -   Longest sequence length observed after clipping:     74\n",
      "06/24/2022 15:33:29 - INFO - clai.flowing.base.flow -   Average sequence length after clipping: 11.315247750077583\n",
      "06/24/2022 15:33:29 - INFO - clai.flowing.base.flow -   Proportion clipped:      0.0\n"
     ]
    }
   ],
   "source": [
    "data_silo = flow.Flow.load(\"haski\", processor=processor, batch_size=1)"
   ]
  },
  {
   "cell_type": "code",
   "execution_count": 11,
   "metadata": {},
   "outputs": [],
   "source": [
    "from clai.modeling.module.head import PredictionHead"
   ]
  },
  {
   "cell_type": "code",
   "execution_count": 12,
   "metadata": {},
   "outputs": [
    {
     "ename": "AttributeError",
     "evalue": "type object 'PredictionHead' has no attribute 'load'",
     "output_type": "error",
     "traceback": [
      "\u001b[0;31m---------------------------------------------------------------------------\u001b[0m",
      "\u001b[0;31mAttributeError\u001b[0m                            Traceback (most recent call last)",
      "\u001b[1;32m/Users/justatom/Project/clai/notebook/flow.ipynb Cell 12'\u001b[0m in \u001b[0;36m<cell line: 1>\u001b[0;34m()\u001b[0m\n\u001b[0;32m----> <a href='vscode-notebook-cell:/Users/justatom/Project/clai/notebook/flow.ipynb#ch0000020?line=0'>1</a>\u001b[0m prediction_head \u001b[39m=\u001b[39m PredictionHead\u001b[39m.\u001b[39;49mload(\u001b[39m\"\u001b[39m\u001b[39mcls\u001b[39m\u001b[39m\"\u001b[39m, num_labels\u001b[39m=\u001b[39m\u001b[39mlen\u001b[39m(label_list))\n",
      "\u001b[0;31mAttributeError\u001b[0m: type object 'PredictionHead' has no attribute 'load'"
     ]
    }
   ],
   "source": [
    "prediction_head = PredictionHead.load(\"cls\", num_labels=len(label_list))"
   ]
  },
  {
   "cell_type": "code",
   "execution_count": null,
   "metadata": {},
   "outputs": [],
   "source": []
  }
 ],
 "metadata": {
  "kernelspec": {
   "display_name": "Python 3.9.10 ('jarvis')",
   "language": "python",
   "name": "python3"
  },
  "language_info": {
   "codemirror_mode": {
    "name": "ipython",
    "version": 3
   },
   "file_extension": ".py",
   "mimetype": "text/x-python",
   "name": "python",
   "nbconvert_exporter": "python",
   "pygments_lexer": "ipython3",
   "version": "3.9.10"
  },
  "orig_nbformat": 4,
  "vscode": {
   "interpreter": {
    "hash": "97089d50262579ab1967ebd629062937fa0b7615aa9bbef356fc9c4144ed353d"
   }
  }
 },
 "nbformat": 4,
 "nbformat_minor": 2
}
